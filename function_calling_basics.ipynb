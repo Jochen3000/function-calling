{
 "cells": [
  {
   "cell_type": "code",
   "execution_count": 4,
   "id": "46d3b5de",
   "metadata": {},
   "outputs": [],
   "source": [
    "import openai\n",
    "from dotenv import load_dotenv\n",
    "import os\n",
    "import json"
   ]
  },
  {
   "cell_type": "code",
   "execution_count": 5,
   "id": "7299aca8",
   "metadata": {},
   "outputs": [],
   "source": [
    "load_dotenv(\".env\")\n",
    "openai.api_key = os.getenv(\"OPENAI_API_KEY\")"
   ]
  },
  {
   "cell_type": "markdown",
   "id": "4f7e91e0",
   "metadata": {},
   "source": [
    "### Extracting email values"
   ]
  },
  {
   "cell_type": "code",
   "execution_count": 30,
   "id": "8e6ebca5",
   "metadata": {},
   "outputs": [],
   "source": [
    "messages = [\n",
    "    {\"role\": \"user\", \"content\": \"Send Cobus from humanfirst ai an email asking for the monthly report?\"}\n",
    "  ]\n",
    "\n",
    "def get_completion(messages):\n",
    "    response = openai.ChatCompletion.create(\n",
    "        model=\"gpt-3.5-turbo-0613\",\n",
    "        messages=messages,\n",
    "        functions= [\n",
    "    {\n",
    "      \"name\": \"send_email\",\n",
    "      \"description\": \"Please send an email.\",\n",
    "      \"parameters\": {\n",
    "        \"type\": \"object\",\n",
    "        \"properties\": {\n",
    "          \"to_address\": {\n",
    "            \"type\": \"string\",\n",
    "            \"description\": \"To address for email\"\n",
    "          },          \n",
    "          \"subject\": {\n",
    "            \"type\": \"string\",\n",
    "            \"description\": \"subject of the email\"\n",
    "          },\n",
    "          \"body\": {\n",
    "            \"type\": \"string\",\n",
    "            \"description\": \"Body of the email\"\n",
    "          }\n",
    "        }\n",
    "      }\n",
    "    }\n",
    "  ],\n",
    "        function_call=\"auto\",\n",
    "    )\n",
    "    arguments = response['choices'][0]['message']['function_call']['arguments']\n",
    "    arguments_dict = json.loads(arguments)\n",
    "    return arguments_dict"
   ]
  },
  {
   "cell_type": "code",
   "execution_count": 31,
   "id": "736ce6ee",
   "metadata": {},
   "outputs": [
    {
     "data": {
      "text/plain": [
       "{'to_address': 'cobus@humanfirst.ai',\n",
       " 'subject': 'Request for Monthly Report',\n",
       " 'body': \"Hi Cobus,\\n\\nI hope you're doing well. Could you please send me the monthly report for this month? I need it for the upcoming meeting.\\n\\nThanks,\\n[Your Name]\"}"
      ]
     },
     "execution_count": 31,
     "metadata": {},
     "output_type": "execute_result"
    }
   ],
   "source": [
    "get_completion(messages)"
   ]
  },
  {
   "cell_type": "markdown",
   "id": "dc22a6eb",
   "metadata": {},
   "source": [
    "### Classify sentiment (v1)"
   ]
  },
  {
   "cell_type": "code",
   "execution_count": 35,
   "id": "5313daea",
   "metadata": {},
   "outputs": [],
   "source": [
    "completion = openai.ChatCompletion.create(\n",
    "    model=\"gpt-3.5-turbo-0613\",\n",
    "    messages=[{\"role\": \"user\", \"content\": \"I like it\"}],\n",
    "    functions=[\n",
    "    {\n",
    "        \"name\": \"get_sentiment\",\n",
    "        \"description\": \"Categorize the user message sentiment \",\n",
    "        \"parameters\": {\n",
    "            \"type\": \"object\",\n",
    "            \"properties\": {\n",
    "                \"category\": {\"type\": \"string\", \"enum\": [\"positive\", \"negative\", \"neutral\"]},\n",
    "            },\n",
    "            \"required\": [\"category\"],\n",
    "        },\n",
    "    }\n",
    "],\n",
    "function_call=\"auto\",\n",
    ")"
   ]
  },
  {
   "cell_type": "code",
   "execution_count": 36,
   "id": "79cb648c",
   "metadata": {},
   "outputs": [
    {
     "data": {
      "text/plain": [
       "<OpenAIObject at 0x11562f530> JSON: {\n",
       "  \"index\": 0,\n",
       "  \"message\": {\n",
       "    \"role\": \"assistant\",\n",
       "    \"content\": null,\n",
       "    \"function_call\": {\n",
       "      \"name\": \"get_sentiment\",\n",
       "      \"arguments\": \"{\\n  \\\"category\\\": \\\"positive\\\"\\n}\"\n",
       "    }\n",
       "  },\n",
       "  \"finish_reason\": \"function_call\"\n",
       "}"
      ]
     },
     "execution_count": 36,
     "metadata": {},
     "output_type": "execute_result"
    }
   ],
   "source": [
    "reply_content = completion.choices[0]\n",
    "reply_content"
   ]
  },
  {
   "cell_type": "markdown",
   "id": "caca9231",
   "metadata": {},
   "source": [
    "### Classify sentiment (v2)"
   ]
  },
  {
   "cell_type": "code",
   "execution_count": 38,
   "id": "fe3b5b09",
   "metadata": {},
   "outputs": [
    {
     "name": "stdout",
     "output_type": "stream",
     "text": [
      "{'category': 'positive'}\n"
     ]
    }
   ],
   "source": [
    "messages = [\n",
    "    {\"role\": \"user\", \"content\": \"I like it\"}\n",
    "]\n",
    "\n",
    "def get_sentiment(messages):\n",
    "    response = openai.ChatCompletion.create(\n",
    "        model=\"gpt-3.5-turbo-0613\",\n",
    "        messages=messages,\n",
    "        functions=[\n",
    "        {\n",
    "            \"name\": \"get_sentiment\",\n",
    "            \"description\": \"Categorize the user message sentiment \",\n",
    "            \"parameters\": {\n",
    "                \"type\": \"object\",\n",
    "                \"properties\": {\n",
    "                    \"category\": {\"type\": \"string\", \"enum\": [\"positive\", \"negative\", \"neutral\"]},\n",
    "                },\n",
    "                \"required\": [\"category\"],\n",
    "            },\n",
    "        }\n",
    "    ],\n",
    "    function_call=\"auto\",\n",
    "    )\n",
    "    \n",
    "    arguments = response['choices'][0]['message']['function_call']['arguments']\n",
    "    arguments_dict = json.loads(arguments)\n",
    "    return arguments_dict\n",
    "\n",
    "get_sentiment(messages)"
   ]
  },
  {
   "cell_type": "markdown",
   "id": "650f6232",
   "metadata": {},
   "source": [
    "### Return job description plus image url"
   ]
  },
  {
   "cell_type": "code",
   "execution_count": 10,
   "id": "ab0c1840",
   "metadata": {},
   "outputs": [
    {
     "data": {
      "text/plain": [
       "<OpenAIObject chat.completion id=chatcmpl-7UA6mRybdQls0ZAZHqnpDTVJvO06N at 0x114eb6810> JSON: {\n",
       "  \"id\": \"chatcmpl-7UA6mRybdQls0ZAZHqnpDTVJvO06N\",\n",
       "  \"object\": \"chat.completion\",\n",
       "  \"created\": 1687423052,\n",
       "  \"model\": \"gpt-3.5-turbo-0613\",\n",
       "  \"choices\": [\n",
       "    {\n",
       "      \"index\": 0,\n",
       "      \"message\": {\n",
       "        \"role\": \"assistant\",\n",
       "        \"content\": null,\n",
       "        \"function_call\": {\n",
       "          \"name\": \"get_job_description\",\n",
       "          \"arguments\": \"{\\n  \\\"job_description\\\": \\\"A web developer is responsible for designing, coding, and modifying websites, from layout to function and according to a client's specifications. They strive to create visually appealing sites that feature user-friendly design and clear navigation. Web developers also work closely with clients to understand their needs and create customized solutions that meet their business requirements. Additionally, they use programming languages such as HTML, CSS, JavaScript, and PHP to build and maintain websites. As a web developer, you will need a strong understanding of web development principles and the ability to work in a fast-paced, dynamic environment.\\\",\\n  \\\"job_category\\\": \\\"software\\\",\\n  \\\"job_url_path\\\": \\\"images/software\\\"\\n}\"\n",
       "        }\n",
       "      },\n",
       "      \"finish_reason\": \"stop\"\n",
       "    }\n",
       "  ],\n",
       "  \"usage\": {\n",
       "    \"prompt_tokens\": 131,\n",
       "    \"completion_tokens\": 139,\n",
       "    \"total_tokens\": 270\n",
       "  }\n",
       "}"
      ]
     },
     "execution_count": 10,
     "metadata": {},
     "output_type": "execute_result"
    }
   ],
   "source": [
    "messages = [\n",
    "    {\"role\": \"user\", \"content\": \"I am a web developer\"}\n",
    "]\n",
    "\n",
    "def get_job_info(messages):\n",
    "    response = openai.ChatCompletion.create(\n",
    "        model=\"gpt-3.5-turbo-0613\",\n",
    "        messages=messages,\n",
    "        functions=[\n",
    "        {\n",
    "            \"name\": \"get_job_description\",\n",
    "            \"description\": \"Write a detailed description of the job of the user, assign the job to a category and generate an image file path\",\n",
    "            \"parameters\": {\n",
    "                \"type\": \"object\",\n",
    "                \"properties\": {\n",
    "                    \"job_description\": {\n",
    "                        \"type\": \"string\",\n",
    "                        \"description\": \"Write a description of the Job\",\n",
    "                    },\n",
    "                    \"job_category\": {\n",
    "                        \"type\": \"string\", \n",
    "                        \"enum\": [\"medizin\", \"software\", \"handwerk\"],\n",
    "                        \"description\": \"The job category\",\n",
    "                    },\n",
    "                    \"job_url_path\": {\n",
    "                        \"type\": \"string\", \n",
    "                        \"enum\": [\"images/medical\", \"images/software\", \"images/farming\"],\n",
    "                        \"description\": \"The image path\",\n",
    "                    },\n",
    "                },\n",
    "            },\n",
    "        }],\n",
    "        function_call={\"name\": \"get_job_description\"},\n",
    "    )\n",
    "    \n",
    "    return response\n",
    "\n",
    "get_job_info(messages)\n"
   ]
  },
  {
   "cell_type": "code",
   "execution_count": 45,
   "id": "9d7c060e",
   "metadata": {},
   "outputs": [
    {
     "name": "stdout",
     "output_type": "stream",
     "text": [
      "<img src=\"images/software\" alt=\"Job image\">\n"
     ]
    }
   ],
   "source": [
    "def create_html_image_tag(job_url_path):\n",
    "    return f'<img src=\"{job_url_path}\" alt=\"Job image\">'\n",
    "\n",
    "# Usage example\n",
    "job_url_path = \"images/software\"  # this value can be extracted from the get_job_info function's response\n",
    "html_tag = create_html_image_tag(job_url_path)\n",
    "print(html_tag)\n"
   ]
  },
  {
   "cell_type": "code",
   "execution_count": null,
   "id": "dc18925d",
   "metadata": {},
   "outputs": [],
   "source": []
  }
 ],
 "metadata": {
  "kernelspec": {
   "display_name": "Python 3 (ipykernel)",
   "language": "python",
   "name": "python3"
  },
  "language_info": {
   "codemirror_mode": {
    "name": "ipython",
    "version": 3
   },
   "file_extension": ".py",
   "mimetype": "text/x-python",
   "name": "python",
   "nbconvert_exporter": "python",
   "pygments_lexer": "ipython3",
   "version": "3.11.1"
  }
 },
 "nbformat": 4,
 "nbformat_minor": 5
}
