{
 "cells": [
  {
   "cell_type": "code",
   "execution_count": 26,
   "id": "1e881950",
   "metadata": {},
   "outputs": [],
   "source": [
    "# This is adapted from deeplearning.ai\n",
    "\n",
    "import openai\n",
    "from dotenv import load_dotenv\n",
    "import os\n",
    "import json\n",
    "\n",
    "load_dotenv(\"../../.env\")\n",
    "openai.api_key = os.getenv(\"OPENAI_API_KEY\")"
   ]
  },
  {
   "cell_type": "code",
   "execution_count": 27,
   "id": "234338d3",
   "metadata": {},
   "outputs": [],
   "source": [
    "filename = 'db-gesamt-dashboard'\n",
    "import_filename = '../../text/' + filename + '.txt'\n",
    "\n",
    "# Load text file as plain text\n",
    "with open(import_filename, encoding='utf-8') as f:\n",
    "    db_interviews = f.read()"
   ]
  },
  {
   "cell_type": "code",
   "execution_count": 28,
   "id": "fe490e11",
   "metadata": {},
   "outputs": [],
   "source": [
    "def get_completion_from_messages(messages, \n",
    "                                 model=\"gpt-3.5-turbo-16k-0613\", \n",
    "                                 temperature=0):\n",
    "    response = openai.ChatCompletion.create(\n",
    "        model=model,\n",
    "        messages=messages,\n",
    "        temperature=temperature, \n",
    "        max_tokens=1000,\n",
    "    )\n",
    "    return response.choices[0].message[\"content\"]"
   ]
  },
  {
   "cell_type": "code",
   "execution_count": 29,
   "id": "4aa843f7",
   "metadata": {},
   "outputs": [],
   "source": [
    "delimiter = \"####\"\n",
    "system_message = f\"\"\"\n",
    "You are a user researcher. \\\n",
    "You will be provided with customer interviews \\\n",
    "with travellers using Deutsche Bahn trains. \\\n",
    "The interviews are delimited by {delimiter} characters.\n",
    "Do the following:\n",
    "1. List the interviewees names\n",
    "2. Count the number of interviewees\n",
    "3. Identify 15 classification categories that are relevant \\\n",
    "from the perspective of a Deutsche Bahn product manager. \\\n",
    "List for every category the number of occurencies. \n",
    "\n",
    "Provide your output in json format.\n",
    "\n",
    "\"\"\"\n",
    "\n",
    "messages =  [  \n",
    "{'role':'system', 'content': f\"{system_message}{delimiter}{db_interviews}\"},    \n",
    "] \n",
    "response = get_completion_from_messages(messages)\n",
    "print(response)"
   ]
  },
  {
   "cell_type": "code",
   "execution_count": 30,
   "id": "ba07aefa",
   "metadata": {},
   "outputs": [
    {
     "name": "stdout",
     "output_type": "stream",
     "text": [
      "{\n",
      "  \"interviewees\": [\n",
      "    \"Christoph\",\n",
      "    \"Julia\",\n",
      "    \"Person x\",\n",
      "    \"Person y\",\n",
      "    \"Person z\",\n",
      "    \"Person p\",\n",
      "    \"Person n\",\n",
      "    \"Susanne\",\n",
      "    \"Gast\",\n",
      "    \"MCK\",\n",
      "    \"Telefoninterview\",\n",
      "    \"TH\",\n",
      "    \"EL\",\n",
      "    \"TJ\",\n",
      "    \"LG\",\n",
      "    \"DD\",\n",
      "    \"Frau, ca 40 Jahre alt\",\n",
      "    \"Mann, ca 40 Jahre alt\",\n",
      "    \"18 jährige Schweizerin\",\n",
      "    \"27 jährige Business Frau\",\n",
      "    \"Mittelalter Mann (Anfang 40)\",\n",
      "    \"Mann um die 50\"\n",
      "  ],\n",
      "  \"number_of_interviewees\": 22,\n",
      "  \"classification_categories\": {\n",
      "    \"Gepäck\": 15,\n",
      "    \"Reiseplanung\": 12,\n",
      "    \"Informationen im Zug\": 14,\n",
      "    \"DB Navigator\": 9,\n",
      "    \"Verspätungen\": 6,\n",
      "    \"Anschlusszüge\": 7,\n",
      "    \"Kinder\": 6,\n",
      "    \"Fahrräder\": 4,\n",
      "    \"Komfort\": 5,\n",
      "    \"WLAN\": 4,\n",
      "    \"Toiletten\": 5,\n",
      "    \"Wickelmöglichkeiten\": 4,\n",
      "    \"Bordbistro\": 5,\n",
      "    \"Orientierung im Zug\": 6,\n",
      "    \"Sitzplatzreservierung\": 6\n",
      "  }\n",
      "}\n"
     ]
    }
   ],
   "source": []
  }
 ],
 "metadata": {
  "kernelspec": {
   "display_name": "Python 3 (ipykernel)",
   "language": "python",
   "name": "python3"
  },
  "language_info": {
   "codemirror_mode": {
    "name": "ipython",
    "version": 3
   },
   "file_extension": ".py",
   "mimetype": "text/x-python",
   "name": "python",
   "nbconvert_exporter": "python",
   "pygments_lexer": "ipython3",
   "version": "3.11.1"
  }
 },
 "nbformat": 4,
 "nbformat_minor": 5
}
