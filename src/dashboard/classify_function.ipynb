{
 "cells": [
  {
   "cell_type": "code",
   "execution_count": 29,
   "id": "1e881950",
   "metadata": {},
   "outputs": [],
   "source": [
    "import openai\n",
    "from dotenv import load_dotenv\n",
    "import os\n",
    "import pprint\n",
    "import json\n",
    "from pydantic import BaseModel, Field\n",
    "from typing import Optional, List\n",
    "\n",
    "load_dotenv(\"../../.env\")\n",
    "openai.api_key = os.getenv(\"OPENAI_API_KEY\")"
   ]
  },
  {
   "cell_type": "code",
   "execution_count": 30,
   "id": "234338d3",
   "metadata": {},
   "outputs": [],
   "source": [
    "filename = 'db-gesamt-dashboard'\n",
    "import_filename = '../../text/' + filename + '.txt'\n",
    "\n",
    "# Load text file as plain text\n",
    "with open(import_filename, encoding='utf-8') as f:\n",
    "    db_interviews = f.read()"
   ]
  },
  {
   "cell_type": "code",
   "execution_count": 34,
   "id": "d2c3b840",
   "metadata": {},
   "outputs": [],
   "source": [
    "# define function structure in pydantic\n",
    "\n",
    "class Topic(BaseModel):\n",
    "    name: str = Field(..., description=\"Classification category\")\n",
    "    count: int = Field(..., description=\"Count for the category\")\n",
    "\n",
    "class Interviewee(BaseModel):\n",
    "    name: str = Field(..., description=\"interviewee name\")\n",
    "    about: str = Field(..., description=\"short description of the person. Max 25 characters\")\n",
    "\n",
    "class ExtractInsightsParams(BaseModel):\n",
    "    interviewee_count: int = Field(..., description=\"Number of people interviewed\")\n",
    "    question_count: int = Field(..., description=\"Avergae number of questions asked\")\n",
    "    interview_topics: List[Topic] = Field(..., description=\"List of top 10 classification categories with their counts\")\n",
    "    interviewee_list: List[Interviewee] = Field(..., description=\"List of interviewees\")"
   ]
  },
  {
   "cell_type": "code",
   "execution_count": 32,
   "id": "fe490e11",
   "metadata": {},
   "outputs": [],
   "source": [
    "def get_completion_from_messages(messages, \n",
    "                                 model=\"gpt-3.5-turbo-16k-0613\", \n",
    "                                 temperature=0):\n",
    "    response = openai.ChatCompletion.create(\n",
    "        model=model,\n",
    "        messages=messages,\n",
    "        temperature=temperature, \n",
    "        max_tokens=3000,\n",
    "        functions=[\n",
    "        {\n",
    "          \"name\": \"extract_insights\",\n",
    "          \"description\": \"Extract insights from interviews\",\n",
    "          \"parameters\": ExtractInsightsParams.schema()\n",
    "        }\n",
    "    ],\n",
    "        function_call=\"auto\",\n",
    "    )\n",
    "    print(response)\n",
    "    function_call = response.choices[0].message[\"function_call\"]\n",
    "    arguments = json.loads(function_call[\"arguments\"])\n",
    "    return arguments"
   ]
  },
  {
   "cell_type": "code",
   "execution_count": 35,
   "id": "4aa843f7",
   "metadata": {},
   "outputs": [
    {
     "name": "stdout",
     "output_type": "stream",
     "text": [
      "{\n",
      "  \"id\": \"chatcmpl-7a2tNciq3nqgMIkgZAnlfVKWfTAqU\",\n",
      "  \"object\": \"chat.completion\",\n",
      "  \"created\": 1688825281,\n",
      "  \"model\": \"gpt-3.5-turbo-16k-0613\",\n",
      "  \"choices\": [\n",
      "    {\n",
      "      \"index\": 0,\n",
      "      \"message\": {\n",
      "        \"role\": \"assistant\",\n",
      "        \"content\": null,\n",
      "        \"function_call\": {\n",
      "          \"name\": \"extract_insights\",\n",
      "          \"arguments\": \"{\\n  \\\"interviewee_count\\\": 10,\\n  \\\"question_count\\\": 40,\\n  \\\"interview_topics\\\": [\\n    {\\n      \\\"name\\\": \\\"Gep\\u00e4ck\\\",\\n      \\\"count\\\": 15\\n    },\\n    {\\n      \\\"name\\\": \\\"Reservierung\\\",\\n      \\\"count\\\": 10\\n    },\\n    {\\n      \\\"name\\\": \\\"Orientierung\\\",\\n      \\\"count\\\": 8\\n    },\\n    {\\n      \\\"name\\\": \\\"Versp\\u00e4tungen\\\",\\n      \\\"count\\\": 5\\n    },\\n    {\\n      \\\"name\\\": \\\"Sitzplatzsuche\\\",\\n      \\\"count\\\": 7\\n    },\\n    {\\n      \\\"name\\\": \\\"Informationen\\\",\\n      \\\"count\\\": 12\\n    },\\n    {\\n      \\\"name\\\": \\\"Anschlussz\\u00fcge\\\",\\n      \\\"count\\\": 6\\n    },\\n    {\\n      \\\"name\\\": \\\"WLAN\\\",\\n      \\\"count\\\": 4\\n    },\\n    {\\n      \\\"name\\\": \\\"Kinder\\\",\\n      \\\"count\\\": 5\\n    },\\n    {\\n      \\\"name\\\": \\\"Bordbistro\\\",\\n      \\\"count\\\": 3\\n    }\\n  ],\\n  \\\"interviewee_list\\\": [\\n    {\\n      \\\"name\\\": \\\"Christoph\\\",\\n      \\\"about\\\": \\\"Train traveller with luggage\\\"\\n    },\\n    {\\n      \\\"name\\\": \\\"Julia\\\",\\n      \\\"about\\\": \\\"Train traveller with luggage and children\\\"\\n    },\\n    {\\n      \\\"name\\\": \\\"Person X\\\",\\n      \\\"about\\\": \\\"Train traveller who plans trips using the DB Navigator app\\\"\\n    },\\n    {\\n      \\\"name\\\": \\\"Person Y\\\",\\n      \\\"about\\\": \\\"Train traveller who plans trips using the DB Navigator web\\\"\\n    },\\n    {\\n      \\\"name\\\": \\\"Person Z\\\",\\n      \\\"about\\\": \\\"Train traveller who plans trips using ticket machines\\\"\\n    },\\n    {\\n      \\\"name\\\": \\\"Person P\\\",\\n      \\\"about\\\": \\\"Train traveller who plans trips using the ticket counter\\\"\\n    },\\n    {\\n      \\\"name\\\": \\\"Person N\\\",\\n      \\\"about\\\": \\\"Train traveller who plans trips using the DB Navigator app\\\"\\n    },\\n    {\\n      \\\"name\\\": \\\"Susanne\\\",\\n      \\\"about\\\": \\\"Train traveller with children\\\"\\n    },\\n    {\\n      \\\"name\\\": \\\"Gast\\\",\\n      \\\"about\\\": \\\"Train traveller with children\\\"\\n    },\\n    {\\n      \\\"name\\\": \\\"G3\\\",\\n      \\\"about\\\": \\\"Train traveller with bicycle\\\"\\n    },\\n    {\\n      \\\"name\\\": \\\"Telefoninterview\\\",\\n      \\\"about\\\": \\\"Train traveller with wheelchair\\\"\\n    },\\n    {\\n      \\\"name\\\": \\\"MCK\\\",\\n      \\\"about\\\": \\\"Train traveller with laptop\\\"\\n    },\\n    {\\n      \\\"name\\\": \\\"TH\\\",\\n      \\\"about\\\": \\\"Train traveller with luggage\\\"\\n    },\\n    {\\n      \\\"name\\\": \\\"EL\\\",\\n      \\\"about\\\": \\\"Train traveller with luggage\\\"\\n    },\\n    {\\n      \\\"name\\\": \\\"TJ\\\",\\n      \\\"about\\\": \\\"Train traveller with children\\\"\\n    },\\n    {\\n      \\\"name\\\": \\\"LG\\\",\\n      \\\"about\\\": \\\"Train traveller with luggage\\\"\\n    },\\n    {\\n      \\\"name\\\": \\\"DD\\\",\\n      \\\"about\\\": \\\"Train traveller with luggage\\\"\\n    },\\n    {\\n      \\\"name\\\": \\\"Frau\\\",\\n      \\\"about\\\": \\\"Train traveller with luggage\\\"\\n    },\\n    {\\n      \\\"name\\\": \\\"Mann\\\",\\n      \\\"about\\\": \\\"Train traveller with reservation\\\"\\n    },\\n    {\\n      \\\"name\\\": \\\"18 j\\u00e4hrige Schweizerin\\\",\\n      \\\"about\\\": \\\"Train traveller with reservation\\\"\\n    },\\n    {\\n      \\\"name\\\": \\\"27 j\\u00e4hrige Business Frau\\\",\\n      \\\"about\\\": \\\"Train traveller with reservation\\\"\\n    },\\n    {\\n      \\\"name\\\": \\\"Mittelalter Mann (Anfang 40)\\\",\\n      \\\"about\\\": \\\"Train traveller with reservation\\\"\\n    }\\n  ]\\n}\"\n",
      "        }\n",
      "      },\n",
      "      \"finish_reason\": \"function_call\"\n",
      "    }\n",
      "  ],\n",
      "  \"usage\": {\n",
      "    \"prompt_tokens\": 12240,\n",
      "    \"completion_tokens\": 779,\n",
      "    \"total_tokens\": 13019\n",
      "  }\n",
      "}\n",
      "{'interview_topics': [{'count': 15, 'name': 'Gepäck'},\n",
      "                      {'count': 10, 'name': 'Reservierung'},\n",
      "                      {'count': 8, 'name': 'Orientierung'},\n",
      "                      {'count': 5, 'name': 'Verspätungen'},\n",
      "                      {'count': 7, 'name': 'Sitzplatzsuche'},\n",
      "                      {'count': 12, 'name': 'Informationen'},\n",
      "                      {'count': 6, 'name': 'Anschlusszüge'},\n",
      "                      {'count': 4, 'name': 'WLAN'},\n",
      "                      {'count': 5, 'name': 'Kinder'},\n",
      "                      {'count': 3, 'name': 'Bordbistro'}],\n",
      " 'interviewee_count': 10,\n",
      " 'interviewee_list': [{'about': 'Train traveller with luggage',\n",
      "                       'name': 'Christoph'},\n",
      "                      {'about': 'Train traveller with luggage and children',\n",
      "                       'name': 'Julia'},\n",
      "                      {'about': 'Train traveller who plans trips using the DB '\n",
      "                                'Navigator app',\n",
      "                       'name': 'Person X'},\n",
      "                      {'about': 'Train traveller who plans trips using the DB '\n",
      "                                'Navigator web',\n",
      "                       'name': 'Person Y'},\n",
      "                      {'about': 'Train traveller who plans trips using ticket '\n",
      "                                'machines',\n",
      "                       'name': 'Person Z'},\n",
      "                      {'about': 'Train traveller who plans trips using the '\n",
      "                                'ticket counter',\n",
      "                       'name': 'Person P'},\n",
      "                      {'about': 'Train traveller who plans trips using the DB '\n",
      "                                'Navigator app',\n",
      "                       'name': 'Person N'},\n",
      "                      {'about': 'Train traveller with children',\n",
      "                       'name': 'Susanne'},\n",
      "                      {'about': 'Train traveller with children',\n",
      "                       'name': 'Gast'},\n",
      "                      {'about': 'Train traveller with bicycle', 'name': 'G3'},\n",
      "                      {'about': 'Train traveller with wheelchair',\n",
      "                       'name': 'Telefoninterview'},\n",
      "                      {'about': 'Train traveller with laptop', 'name': 'MCK'},\n",
      "                      {'about': 'Train traveller with luggage', 'name': 'TH'},\n",
      "                      {'about': 'Train traveller with luggage', 'name': 'EL'},\n",
      "                      {'about': 'Train traveller with children', 'name': 'TJ'},\n",
      "                      {'about': 'Train traveller with luggage', 'name': 'LG'},\n",
      "                      {'about': 'Train traveller with luggage', 'name': 'DD'},\n",
      "                      {'about': 'Train traveller with luggage', 'name': 'Frau'},\n",
      "                      {'about': 'Train traveller with reservation',\n",
      "                       'name': 'Mann'},\n",
      "                      {'about': 'Train traveller with reservation',\n",
      "                       'name': '18 jährige Schweizerin'},\n",
      "                      {'about': 'Train traveller with reservation',\n",
      "                       'name': '27 jährige Business Frau'},\n",
      "                      {'about': 'Train traveller with reservation',\n",
      "                       'name': 'Mittelalter Mann (Anfang 40)'}],\n",
      " 'question_count': 40}\n"
     ]
    }
   ],
   "source": [
    "delimiter = \"####\"\n",
    "system_message = f\"\"\"\n",
    "You are a user researcher. \\\n",
    "You will be provided with customer interviews \\\n",
    "with train travellers. \\\n",
    "The interviews are delimited by {delimiter} characters.\n",
    "\n",
    "\"\"\"\n",
    "\n",
    "messages =  [  \n",
    "{'role':'system', 'content': f\"{system_message}{delimiter}{db_interviews}\"},    \n",
    "] \n",
    "response = get_completion_from_messages(messages)\n",
    "pprint.pprint(response)"
   ]
  },
  {
   "cell_type": "code",
   "execution_count": 8,
   "id": "ba07aefa",
   "metadata": {},
   "outputs": [
    {
     "name": "stdout",
     "output_type": "stream",
     "text": [
      "Number of interviewee_names:  20\n"
     ]
    }
   ],
   "source": [
    "count = len(response['interviewee_names'])\n",
    "print(\"Number of interviewee_names: \", count)"
   ]
  }
 ],
 "metadata": {
  "kernelspec": {
   "display_name": "Python 3 (ipykernel)",
   "language": "python",
   "name": "python3"
  },
  "language_info": {
   "codemirror_mode": {
    "name": "ipython",
    "version": 3
   },
   "file_extension": ".py",
   "mimetype": "text/x-python",
   "name": "python",
   "nbconvert_exporter": "python",
   "pygments_lexer": "ipython3",
   "version": "3.11.1"
  }
 },
 "nbformat": 4,
 "nbformat_minor": 5
}
