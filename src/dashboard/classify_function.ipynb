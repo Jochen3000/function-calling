{
 "cells": [
  {
   "cell_type": "code",
   "execution_count": 6,
   "id": "1e881950",
   "metadata": {},
   "outputs": [],
   "source": [
    "import openai\n",
    "from dotenv import load_dotenv\n",
    "import os\n",
    "import pprint\n",
    "import json\n",
    "from pydantic import BaseModel, Field\n",
    "from typing import Optional, List\n",
    "\n",
    "load_dotenv(\"../../.env\")\n",
    "openai.api_key = os.getenv(\"OPENAI_API_KEY\")"
   ]
  },
  {
   "cell_type": "code",
   "execution_count": 2,
   "id": "234338d3",
   "metadata": {},
   "outputs": [],
   "source": [
    "filename = 'db-gesamt-dashboard'\n",
    "import_filename = '../../text/' + filename + '.txt'\n",
    "\n",
    "# Load text file as plain text\n",
    "with open(import_filename, encoding='utf-8') as f:\n",
    "    db_interviews = f.read()"
   ]
  },
  {
   "cell_type": "code",
   "execution_count": 15,
   "id": "d2c3b840",
   "metadata": {},
   "outputs": [],
   "source": [
    "# define function structure in pydantic\n",
    "\n",
    "class Topic(BaseModel):\n",
    "    name: str = Field(..., description=\"Classification category\")\n",
    "    count: int = Field(..., description=\"Count for the category\")\n",
    "\n",
    "class ExtractInsightsParams(BaseModel):\n",
    "    interviewee_names: List[str] = Field(..., description=\"The names of the interviewees, e.g. Christoph, person y\")\n",
    "    interviewee_count: int = Field(..., description=\"Number of people interviewed\")\n",
    "    interview_topics: List[Topic] = Field(..., description=\"List of top 10 classification categories with their counts\")\n"
   ]
  },
  {
   "cell_type": "code",
   "execution_count": 16,
   "id": "fe490e11",
   "metadata": {},
   "outputs": [],
   "source": [
    "def get_completion_from_messages(messages, \n",
    "                                 model=\"gpt-3.5-turbo-16k-0613\", \n",
    "                                 temperature=0):\n",
    "    response = openai.ChatCompletion.create(\n",
    "        model=model,\n",
    "        messages=messages,\n",
    "        temperature=temperature, \n",
    "        max_tokens=1000,\n",
    "        functions=[\n",
    "        {\n",
    "          \"name\": \"extract_insights\",\n",
    "          \"description\": \"Extract insights from interviews\",\n",
    "          \"parameters\": ExtractInsightsParams.schema()\n",
    "        }\n",
    "    ],\n",
    "        function_call=\"auto\",\n",
    "    )\n",
    "    print(response)\n",
    "    function_call = response.choices[0].message[\"function_call\"]\n",
    "    arguments = json.loads(function_call[\"arguments\"])\n",
    "    return arguments"
   ]
  },
  {
   "cell_type": "code",
   "execution_count": 17,
   "id": "4aa843f7",
   "metadata": {},
   "outputs": [
    {
     "name": "stdout",
     "output_type": "stream",
     "text": [
      "{\n",
      "  \"id\": \"chatcmpl-7VeeMmEKsqPhexaCKE3Mr0qCIGTOh\",\n",
      "  \"object\": \"chat.completion\",\n",
      "  \"created\": 1687778782,\n",
      "  \"model\": \"gpt-3.5-turbo-16k-0613\",\n",
      "  \"choices\": [\n",
      "    {\n",
      "      \"index\": 0,\n",
      "      \"message\": {\n",
      "        \"role\": \"assistant\",\n",
      "        \"content\": null,\n",
      "        \"function_call\": {\n",
      "          \"name\": \"extract_insights\",\n",
      "          \"arguments\": \"{\\n  \\\"interviewee_names\\\": [\\\"Christoph\\\", \\\"Julia\\\", \\\"person x\\\", \\\"person y\\\", \\\"person z\\\", \\\"person p\\\", \\\"person n\\\", \\\"Susanne\\\", \\\"Gast\\\", \\\"MCK\\\", \\\"Telefoninterview\\\", \\\"TH\\\", \\\"EL\\\", \\\"TJ\\\", \\\"LG\\\", \\\"DD\\\", \\\"Frau\\\", \\\"27 j\\u00e4hrige Business Frau\\\", \\\"18 j\\u00e4hrige Schweizerin\\\", \\\"Mittelalter Mann\\\", \\\"Mann um die 50\\\"],\\n  \\\"interviewee_count\\\": 21,\\n  \\\"interview_topics\\\": [\\n    {\\\"name\\\": \\\"Gep\\u00e4ck\\\", \\\"count\\\": 19},\\n    {\\\"name\\\": \\\"Reiseplanung\\\", \\\"count\\\": 14},\\n    {\\\"name\\\": \\\"Informationen im Zug\\\", \\\"count\\\": 17},\\n    {\\\"name\\\": \\\"Kinder und Familien\\\", \\\"count\\\": 7},\\n    {\\\"name\\\": \\\"Rollstuhlfahrer\\\", \\\"count\\\": 2},\\n    {\\\"name\\\": \\\"Sitzplatzreservierung\\\", \\\"count\\\": 9},\\n    {\\\"name\\\": \\\"Orientierung im Zug\\\", \\\"count\\\": 7},\\n    {\\\"name\\\": \\\"Versp\\u00e4tungen\\\", \\\"count\\\": 6},\\n    {\\\"name\\\": \\\"DB Navigator\\\", \\\"count\\\": 6},\\n    {\\\"name\\\": \\\"Sonstiges\\\", \\\"count\\\": 7}\\n  ]\\n}\"\n",
      "        }\n",
      "      },\n",
      "      \"finish_reason\": \"function_call\"\n",
      "    }\n",
      "  ],\n",
      "  \"usage\": {\n",
      "    \"prompt_tokens\": 12285,\n",
      "    \"completion_tokens\": 295,\n",
      "    \"total_tokens\": 12580\n",
      "  }\n",
      "}\n",
      "{'interview_topics': [{'count': 19, 'name': 'Gepäck'},\n",
      "                      {'count': 14, 'name': 'Reiseplanung'},\n",
      "                      {'count': 17, 'name': 'Informationen im Zug'},\n",
      "                      {'count': 7, 'name': 'Kinder und Familien'},\n",
      "                      {'count': 2, 'name': 'Rollstuhlfahrer'},\n",
      "                      {'count': 9, 'name': 'Sitzplatzreservierung'},\n",
      "                      {'count': 7, 'name': 'Orientierung im Zug'},\n",
      "                      {'count': 6, 'name': 'Verspätungen'},\n",
      "                      {'count': 6, 'name': 'DB Navigator'},\n",
      "                      {'count': 7, 'name': 'Sonstiges'}],\n",
      " 'interviewee_count': 21,\n",
      " 'interviewee_names': ['Christoph',\n",
      "                       'Julia',\n",
      "                       'person x',\n",
      "                       'person y',\n",
      "                       'person z',\n",
      "                       'person p',\n",
      "                       'person n',\n",
      "                       'Susanne',\n",
      "                       'Gast',\n",
      "                       'MCK',\n",
      "                       'Telefoninterview',\n",
      "                       'TH',\n",
      "                       'EL',\n",
      "                       'TJ',\n",
      "                       'LG',\n",
      "                       'DD',\n",
      "                       'Frau',\n",
      "                       '27 jährige Business Frau',\n",
      "                       '18 jährige Schweizerin',\n",
      "                       'Mittelalter Mann',\n",
      "                       'Mann um die 50']}\n"
     ]
    }
   ],
   "source": [
    "delimiter = \"####\"\n",
    "system_message = f\"\"\"\n",
    "You are a user researcher. \\\n",
    "You will be provided with customer interviews \\\n",
    "with travellers using Deutsche Bahn trains. \\\n",
    "The interviews are delimited by {delimiter} characters.\n",
    "Do the following:\n",
    "1. List the interviewees names\n",
    "2. Count the number of interviewees\n",
    "3. Identify top 10 classification categories that are relevant \\\n",
    "from the perspective of a Deutsche Bahn product manager. \\\n",
    "List for every category the number of occurencies. \n",
    "\n",
    "\"\"\"\n",
    "\n",
    "messages =  [  \n",
    "{'role':'system', 'content': f\"{system_message}{delimiter}{db_interviews}\"},    \n",
    "] \n",
    "response = get_completion_from_messages(messages)\n",
    "pprint.pprint(response)"
   ]
  },
  {
   "cell_type": "code",
   "execution_count": 14,
   "id": "ba07aefa",
   "metadata": {},
   "outputs": [
    {
     "name": "stdout",
     "output_type": "stream",
     "text": [
      "Number of interviewee_names:  21\n"
     ]
    }
   ],
   "source": [
    "count = len(response['interviewee_names'])\n",
    "print(\"Number of interviewee_names: \", count)"
   ]
  }
 ],
 "metadata": {
  "kernelspec": {
   "display_name": "Python 3 (ipykernel)",
   "language": "python",
   "name": "python3"
  },
  "language_info": {
   "codemirror_mode": {
    "name": "ipython",
    "version": 3
   },
   "file_extension": ".py",
   "mimetype": "text/x-python",
   "name": "python",
   "nbconvert_exporter": "python",
   "pygments_lexer": "ipython3",
   "version": "3.11.1"
  }
 },
 "nbformat": 4,
 "nbformat_minor": 5
}
