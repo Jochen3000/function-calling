{
 "cells": [
  {
   "cell_type": "code",
   "execution_count": 27,
   "id": "1e881950",
   "metadata": {},
   "outputs": [],
   "source": [
    "import openai\n",
    "from dotenv import load_dotenv\n",
    "import os\n",
    "import pprint\n",
    "import json\n",
    "\n",
    "load_dotenv(\"../../.env\")\n",
    "openai.api_key = os.getenv(\"OPENAI_API_KEY\")"
   ]
  },
  {
   "cell_type": "code",
   "execution_count": 28,
   "id": "234338d3",
   "metadata": {},
   "outputs": [],
   "source": [
    "filename = 'db-gesamt-dashboard'\n",
    "import_filename = '../../text/' + filename + '.txt'\n",
    "\n",
    "# Load text file as plain text\n",
    "with open(import_filename, encoding='utf-8') as f:\n",
    "    db_interviews = f.read()"
   ]
  },
  {
   "cell_type": "code",
   "execution_count": 29,
   "id": "fe490e11",
   "metadata": {},
   "outputs": [],
   "source": [
    "def get_completion_from_messages(messages, \n",
    "                                 model=\"gpt-3.5-turbo-16k-0613\", \n",
    "                                 temperature=0):\n",
    "    response = openai.ChatCompletion.create(\n",
    "        model=model,\n",
    "        messages=messages,\n",
    "        temperature=temperature, \n",
    "        max_tokens=1000,\n",
    "        functions= [\n",
    "          {\n",
    "            \"name\": \"extract_insights\",\n",
    "            \"description\": \"Extract insights from interviews\",\n",
    "            \"parameters\": {\n",
    "              \"type\": \"object\",\n",
    "              \"properties\": {\n",
    "                \"interviewee_names\": {\n",
    "                  \"type\": \"string\",\n",
    "                  \"description\": \"The names of the interviewees, e.g. Christoph, person y\"\n",
    "                },\n",
    "                \"interviewee_count\": {\n",
    "                  \"type\": \"number\",\n",
    "                  \"description\": \"Number of people interviewed\"\n",
    "                },\n",
    "                \"interview_topics\": {\n",
    "                  \"type\": \"string\",\n",
    "                  \"description\": \"top 10 classification categories\"\n",
    "                }\n",
    "              },\n",
    "            }\n",
    "          }\n",
    "  ],\n",
    "    )\n",
    "    print(response)\n",
    "    function_call = response.choices[0].message[\"function_call\"]\n",
    "    arguments = json.loads(function_call[\"arguments\"])\n",
    "    return arguments"
   ]
  },
  {
   "cell_type": "code",
   "execution_count": 30,
   "id": "4aa843f7",
   "metadata": {},
   "outputs": [
    {
     "name": "stdout",
     "output_type": "stream",
     "text": [
      "{\n",
      "  \"id\": \"chatcmpl-7VJsKRvxJvK7ATcWKvsrUUfscoUwk\",\n",
      "  \"object\": \"chat.completion\",\n",
      "  \"created\": 1687698924,\n",
      "  \"model\": \"gpt-3.5-turbo-16k-0613\",\n",
      "  \"choices\": [\n",
      "    {\n",
      "      \"index\": 0,\n",
      "      \"message\": {\n",
      "        \"role\": \"assistant\",\n",
      "        \"content\": null,\n",
      "        \"function_call\": {\n",
      "          \"name\": \"extract_insights\",\n",
      "          \"arguments\": \"{\\n  \\\"interviewee_names\\\": \\\"Christoph, Julia, person x, person y, person z, person p, person n, Susanne, Gast, MCK, Telefoninterview, TH, EL, TJ, LG, DD, Frau, 18 j\\u00e4hrige Schweizerin, 27 j\\u00e4hrige Business Frau, Mittelalter Mann, Mann um die 50\\\",\\n  \\\"interviewee_count\\\": 20,\\n  \\\"interview_topics\\\": \\\"Reisen mit Gep\\u00e4ck, Schwierigkeiten beim Reisen mit Gep\\u00e4ck, Ideale Reise, DB Gep\\u00e4ckservice, Planung der Reise, Informationen w\\u00e4hrend der Reise, Informationen vor dem Ausstieg/Umstieg\\\"\\n}\"\n",
      "        }\n",
      "      },\n",
      "      \"finish_reason\": \"function_call\"\n",
      "    }\n",
      "  ],\n",
      "  \"usage\": {\n",
      "    \"prompt_tokens\": 12269,\n",
      "    \"completion_tokens\": 162,\n",
      "    \"total_tokens\": 12431\n",
      "  }\n",
      "}\n",
      "{'interview_topics': 'Reisen mit Gepäck, Schwierigkeiten beim Reisen mit '\n",
      "                     'Gepäck, Ideale Reise, DB Gepäckservice, Planung der '\n",
      "                     'Reise, Informationen während der Reise, Informationen '\n",
      "                     'vor dem Ausstieg/Umstieg',\n",
      " 'interviewee_count': 20,\n",
      " 'interviewee_names': 'Christoph, Julia, person x, person y, person z, person '\n",
      "                      'p, person n, Susanne, Gast, MCK, Telefoninterview, TH, '\n",
      "                      'EL, TJ, LG, DD, Frau, 18 jährige Schweizerin, 27 '\n",
      "                      'jährige Business Frau, Mittelalter Mann, Mann um die 50'}\n"
     ]
    }
   ],
   "source": [
    "delimiter = \"####\"\n",
    "system_message = f\"\"\"\n",
    "You are a user researcher. \\\n",
    "You will be provided with customer interviews \\\n",
    "with travellers using Deutsche Bahn trains. \\\n",
    "The interviews are delimited by {delimiter} characters.\n",
    "Do the following:\n",
    "1. List the interviewees names\n",
    "2. Count the number of interviewees\n",
    "3. Identify top 10 classification categories that are relevant \\\n",
    "from the perspective of a Deutsche Bahn product manager. \\\n",
    "List for every category the number of occurencies. \n",
    "\n",
    "\"\"\"\n",
    "\n",
    "messages =  [  \n",
    "{'role':'system', 'content': f\"{system_message}{delimiter}{db_interviews}\"},    \n",
    "] \n",
    "response = get_completion_from_messages(messages)\n",
    "pprint.pprint(response)"
   ]
  },
  {
   "cell_type": "code",
   "execution_count": null,
   "id": "ba07aefa",
   "metadata": {},
   "outputs": [],
   "source": []
  }
 ],
 "metadata": {
  "kernelspec": {
   "display_name": "Python 3 (ipykernel)",
   "language": "python",
   "name": "python3"
  },
  "language_info": {
   "codemirror_mode": {
    "name": "ipython",
    "version": 3
   },
   "file_extension": ".py",
   "mimetype": "text/x-python",
   "name": "python",
   "nbconvert_exporter": "python",
   "pygments_lexer": "ipython3",
   "version": "3.11.1"
  }
 },
 "nbformat": 4,
 "nbformat_minor": 5
}
