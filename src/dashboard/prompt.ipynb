{
 "cells": [
  {
   "cell_type": "code",
   "execution_count": 32,
   "id": "1e881950",
   "metadata": {},
   "outputs": [],
   "source": [
    "# This is adapted from deeplearning.ai\n",
    "\n",
    "import openai\n",
    "from dotenv import load_dotenv\n",
    "import os\n",
    "import json\n",
    "\n",
    "load_dotenv(\"../../.env\")\n",
    "openai.api_key = os.getenv(\"OPENAI_API_KEY\")"
   ]
  },
  {
   "cell_type": "code",
   "execution_count": 33,
   "id": "234338d3",
   "metadata": {},
   "outputs": [],
   "source": [
    "filename = 'db-gesamt-dashboard'\n",
    "import_filename = '../../text/' + filename + '.txt'\n",
    "\n",
    "# Load text file as plain text\n",
    "with open(import_filename, encoding='utf-8') as f:\n",
    "    db_interviews = f.read()"
   ]
  },
  {
   "cell_type": "code",
   "execution_count": 34,
   "id": "fe490e11",
   "metadata": {},
   "outputs": [],
   "source": [
    "def get_completion_from_messages(messages, \n",
    "                                 model=\"gpt-3.5-turbo-16k-0613\", \n",
    "                                 temperature=0):\n",
    "    response = openai.ChatCompletion.create(\n",
    "        model=model,\n",
    "        messages=messages,\n",
    "        temperature=temperature, \n",
    "        max_tokens=1000,\n",
    "    )\n",
    "    return response.choices[0].message[\"content\"]"
   ]
  },
  {
   "cell_type": "code",
   "execution_count": 40,
   "id": "4aa843f7",
   "metadata": {},
   "outputs": [
    {
     "name": "stdout",
     "output_type": "stream",
     "text": [
      "Positive sentiment examples:\n",
      "- Christoph: \"eine Anschlussgarantie\"; \"einen Einstiegs- bzw. Ausstiegshelfer\"\n",
      "- Julia: \"Jeder hat max. einen Koffer, der gut und sicher verstaut werden kann\"; \"Barrierefreie Bahnhöfe\"\n",
      "- Person x: \"Mit dem Handy im Bistro etwas bestellen\"; \"Push-Nachrichten\"\n",
      "- Person y: \"ein Bot, der meine Fragen zu meiner Reise beantworten kann\"; \"Durchsage, Push-Nachrichten\"\n",
      "- Person z: \"Ursache der Verspätung, Ankunftszeit, Familienbereich, Anschlussverbindungen\"\n",
      "- Person p: \"kein Bildschirm vor dem Sitz, auf dem Informationen über die Reise angezeigt werden\"; \"Durchsagen, Schaffner\"\n",
      "- Person n: \"Alles was man im Vorhinein bestellen kann (Boardbistro)\"; \"Push-Nachrichten\"\n",
      "- Susanne: \"Mehr Abteile wieder als Großraumwagen als Wunsch\"; \"Wickelmöglichkeit alle 5 Wagen\"; \"Wasser im Zug verteilt bekommen\"\n",
      "- Gast: \"Anhand der App konnte ich einsehen, in welchem Bahnsteigabschnitt sich das Kinderabteil befindet\"; \"Im Kinderabteil gibt es genügend Platz und ich kann mit dem Kinderwagen bis in das Abteil fahren\"\n",
      "- MCK: \"Mit dem Handy im Bistro etwas bestellen\"; \"Guter Punkt, das ist mir persönlich auch schon aufgefallen\"\n",
      "- TJ: \"Richtung, in der ich freie Plätze finde\"; \"Mehr Präsenz der Zugbegleiter oder Möglichkeit, diese Infos nachzulesen\"\n",
      "- LG: \"Eine Auslastung pro Wagen wäre schon gut\"; \"Eine Hinführung zu einem konkreten Platz wäre nicht nötig\"\n",
      "- DD: \"Eine solche Funktion würde ich mir auf jeden Fall anschauen\"; \"Eine solche Funktion würde mir helfen\"\n",
      "\n",
      "Negative sentiment examples:\n",
      "- Christoph: \"Angst\"; \"Zu lange Fahrtzeiten. Unpünktlich.\"\n",
      "- Julia: \"Große Koffer lassen sich oftmals nur schwer verstauen\"; \"Teilweise sehr stressig bei Umstiegen\"; \"Züge fallen oft aus und dann kommen wir nicht ans Ziel\"\n",
      "- Person x: \"Unterschied zwischen Zugzielanzeiger und Apps\"\n",
      "- Person y: \"pünktlich abzufahren\"; \"überfüllt, Boardbistro geht nicht\"\n",
      "- Person z: \"Hilfe bei dem Einstieg erhalten\"; \"keine idee\"\n",
      "- Person p: \"rechtzeitig ankommen\"; \"kein Sitzplatz, der Wagen ist komplett voll- wo ist etwas frei\"\n",
      "- Person n: \"Verspäteter Zug, Zugausfall, überfüllt, Boardbistro geht nicht\"; \"Alles was man im Vorhinein bestellen kann (Boardbistro), kein Sitzplatz, der Wagen ist komplett voll- wo ist etwas frei\"\n",
      "- Susanne: \"Kinder laut, Befürchtung: könnte andere stören\"; \"Stehen auf der Strecke ohne Durchsage, dann Angst Anschluss zu verpassen und oft kommt keine Ansage\"; \"Wickeln schwierig, weil Wickelmöglichkeit nur alle 5 Wagen (oder wie oft die kommen)\"\n",
      "- Gast: \"Ich habe keine Infos erhalten, wo ich wickeln soll/ darf\"; \"Im Kinderabteil gibt es genügend Platz und ich kann mit dem Kinderwagen bis in das Abteil fahren\"; \"Vom Kinderabteil ist der Ausgang gut gelegen\"; \"Das Bordbistro ist in Reichweite\"\n",
      "- MCK: \"Flugzeug auf den Zug umsteigen\"; \"Ansagen im Zug schon auf Deutsch in der Regel kaum verständlich sind, von englischen Durchsagen muss man gar nicht erst anfangen\"; \"Gibt es keine Nachtzüge oder kaum noch ECs\"; \"Infos in verständlicher Audio-Qualität, Infos zum Essen und ggfs. sogar Platzservice\"\n",
      "- TJ: \"Stress durch Verspätungen, defekte Toiletten, falsche Reservierungsanzeige\"; \"Stress durch andere Menschen; Gepäck ist schwer\"; \"Stress durch Unsicherheit zum Aufbau des Zuges. Ohne Reservierung: Dauerstress, weil immer jemand kommen kann\"\n"
     ]
    }
   ],
   "source": [
    "delimiter = \"####\"\n",
    "system_message = f\"\"\"\n",
    "You are a user researcher. \\\n",
    "You will be provided with customer interviews \\\n",
    "with travellers using Deutsche Bahn trains. \\\n",
    "The interviews are delimited by {delimiter} characters.\n",
    "\"\"\"\n",
    "\n",
    "user_message = \"\"\" \n",
    "Give me lists of positive and negative sentiment examples with name of interviewee\n",
    "\"\"\"\n",
    "\n",
    "messages =  [  \n",
    "{'role':'system', 'content': f\"{system_message}{delimiter}{db_interviews}\"}, \n",
    "{'role':'user', 'content': f\"{user_message}\"},   \n",
    "] \n",
    "response = get_completion_from_messages(messages)\n",
    "print(response)"
   ]
  },
  {
   "cell_type": "code",
   "execution_count": null,
   "id": "ba07aefa",
   "metadata": {},
   "outputs": [],
   "source": []
  }
 ],
 "metadata": {
  "kernelspec": {
   "display_name": "Python 3 (ipykernel)",
   "language": "python",
   "name": "python3"
  },
  "language_info": {
   "codemirror_mode": {
    "name": "ipython",
    "version": 3
   },
   "file_extension": ".py",
   "mimetype": "text/x-python",
   "name": "python",
   "nbconvert_exporter": "python",
   "pygments_lexer": "ipython3",
   "version": "3.11.1"
  }
 },
 "nbformat": 4,
 "nbformat_minor": 5
}
