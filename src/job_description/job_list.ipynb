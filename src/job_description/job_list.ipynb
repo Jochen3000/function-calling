{
 "cells": [
  {
   "cell_type": "code",
   "execution_count": 1,
   "id": "1e881950",
   "metadata": {},
   "outputs": [],
   "source": [
    "import openai\n",
    "from dotenv import load_dotenv\n",
    "import os\n",
    "import pprint\n",
    "import json\n",
    "from pydantic import BaseModel, Field\n",
    "from typing import Optional, List\n",
    "\n",
    "load_dotenv(\"../../.env\")\n",
    "openai.api_key = os.getenv(\"OPENAI_API_KEY\")"
   ]
  },
  {
   "cell_type": "code",
   "execution_count": 2,
   "id": "d2c3b840",
   "metadata": {},
   "outputs": [],
   "source": [
    "# define function structure in pydantic\n",
    "\n",
    "class ExtractJoblistParams(BaseModel):\n",
    "    job_suggestions: List[str] = Field(..., description=\"Job title plus short description\")"
   ]
  },
  {
   "cell_type": "code",
   "execution_count": 3,
   "id": "fe490e11",
   "metadata": {},
   "outputs": [],
   "source": [
    "def get_completion_from_messages(messages, \n",
    "                                 model=\"gpt-3.5-turbo-0613\", \n",
    "                                 temperature=0):\n",
    "    response = openai.ChatCompletion.create(\n",
    "        model=model,\n",
    "        messages=messages,\n",
    "        temperature=temperature, \n",
    "        functions=[\n",
    "        {\n",
    "          \"name\": \"job_list\",\n",
    "          \"description\": \"Generate a list with 5 job recommendations\",\n",
    "          \"parameters\": ExtractJoblistParams.schema()\n",
    "        }\n",
    "    ],\n",
    "        function_call=\"auto\",\n",
    "    )\n",
    "    print(response)\n",
    "    function_call = response.choices[0].message[\"function_call\"]\n",
    "    arguments = json.loads(function_call[\"arguments\"])\n",
    "    return arguments"
   ]
  },
  {
   "cell_type": "code",
   "execution_count": 6,
   "id": "4aa843f7",
   "metadata": {},
   "outputs": [
    {
     "name": "stdout",
     "output_type": "stream",
     "text": [
      "{\n",
      "  \"id\": \"chatcmpl-7XnG9X8M1esbDeLTuIxysuQ8IgaCO\",\n",
      "  \"object\": \"chat.completion\",\n",
      "  \"created\": 1688288533,\n",
      "  \"model\": \"gpt-3.5-turbo-0613\",\n",
      "  \"choices\": [\n",
      "    {\n",
      "      \"index\": 0,\n",
      "      \"message\": {\n",
      "        \"role\": \"assistant\",\n",
      "        \"content\": null,\n",
      "        \"function_call\": {\n",
      "          \"name\": \"job_list\",\n",
      "          \"arguments\": \"{\\n  \\\"job_suggestions\\\": [\\n    \\\"Software Engineer: Develop and maintain software applications\\\",\\n    \\\"Marketing Manager: Plan and execute marketing campaigns\\\",\\n    \\\"Graphic Designer: Create visual designs for various mediums\\\",\\n    \\\"Data Analyst: Analyze and interpret complex data sets\\\",\\n    \\\"Sales Representative: Build and maintain client relationships\\\"\\n  ]\\n}\"\n",
      "        }\n",
      "      },\n",
      "      \"finish_reason\": \"function_call\"\n",
      "    }\n",
      "  ],\n",
      "  \"usage\": {\n",
      "    \"prompt_tokens\": 69,\n",
      "    \"completion_tokens\": 75,\n",
      "    \"total_tokens\": 144\n",
      "  }\n",
      "}\n",
      "{'job_suggestions': ['Software Engineer: Develop and maintain software '\n",
      "                     'applications',\n",
      "                     'Marketing Manager: Plan and execute marketing campaigns',\n",
      "                     'Graphic Designer: Create visual designs for various '\n",
      "                     'mediums',\n",
      "                     'Data Analyst: Analyze and interpret complex data sets',\n",
      "                     'Sales Representative: Build and maintain client '\n",
      "                     'relationships']}\n"
     ]
    }
   ],
   "source": [
    "delimiter = \"####\"\n",
    "system_message = f\"\"\"\n",
    "You are a job coach. Give me list of 5 job recommendations\n",
    "\n",
    "\"\"\"\n",
    "\n",
    "messages =  [  \n",
    "{'role':'system', 'content': f\"{system_message}\"},    \n",
    "] \n",
    "response = get_completion_from_messages(messages)\n",
    "pprint.pprint(response)"
   ]
  }
 ],
 "metadata": {
  "kernelspec": {
   "display_name": "Python 3 (ipykernel)",
   "language": "python",
   "name": "python3"
  },
  "language_info": {
   "codemirror_mode": {
    "name": "ipython",
    "version": 3
   },
   "file_extension": ".py",
   "mimetype": "text/x-python",
   "name": "python",
   "nbconvert_exporter": "python",
   "pygments_lexer": "ipython3",
   "version": "3.11.1"
  }
 },
 "nbformat": 4,
 "nbformat_minor": 5
}
